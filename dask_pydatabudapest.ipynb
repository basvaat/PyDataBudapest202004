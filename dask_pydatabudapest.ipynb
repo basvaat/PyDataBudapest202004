{
 "cells": [
  {
   "cell_type": "markdown",
   "metadata": {},
   "source": [
    "# Dask\n",
    "\n",
    "We can do data preparation using Dask to subselect interesting items.\n",
    "\n",
    "Be aware that the `ddf` works \"like\" but not \"the same as\" Pandas so you'll have to learn new syntax. Notably `compute`. The diagnostics are great."
   ]
  },
  {
   "cell_type": "code",
   "execution_count": 1,
   "metadata": {},
   "outputs": [
    {
     "data": {
      "text/plain": [
       "'memory profile enabled'"
      ]
     },
     "execution_count": 1,
     "metadata": {},
     "output_type": "execute_result"
    },
    {
     "name": "stdout",
     "output_type": "stream",
     "text": [
      "In [1] used 0.5000 MiB RAM in 0.12s, peaked 0.00 MiB above current, total RAM usage 48.53 MiB\n"
     ]
    }
   ],
   "source": [
    "import ipython_memory_usage\n",
    "#https://github.com/ianozsvald/ipython_memory_usage\n",
    "%ipython_memory_usage_start"
   ]
  },
  {
   "cell_type": "code",
   "execution_count": 2,
   "metadata": {},
   "outputs": [
    {
     "name": "stdout",
     "output_type": "stream",
     "text": [
      "-rw-r--r-- 1 ian ian 161830101 Apr 24 14:06 data_16_10M/datablock15.parquet\n",
      "-rw-r--r-- 1 ian ian 161830098 Apr 24 14:06 data_16_10M/datablock14.parquet\n",
      "-rw-r--r-- 1 ian ian 161830099 Apr 24 14:06 data_16_10M/datablock13.parquet\n",
      "-rw-r--r-- 1 ian ian 161830102 Apr 24 14:06 data_16_10M/datablock12.parquet\n",
      "-rw-r--r-- 1 ian ian 161830100 Apr 24 14:06 data_16_10M/datablock11.parquet\n",
      "-rw-r--r-- 1 ian ian 161830107 Apr 24 14:06 data_16_10M/datablock10.parquet\n",
      "-rw-r--r-- 1 ian ian 161830102 Apr 24 14:06 data_16_10M/datablock9.parquet\n",
      "-rw-r--r-- 1 ian ian 161830099 Apr 24 14:06 data_16_10M/datablock8.parquet\n",
      "-rw-r--r-- 1 ian ian 161830103 Apr 24 14:06 data_16_10M/datablock7.parquet\n",
      "-rw-r--r-- 1 ian ian 161830104 Apr 24 14:06 data_16_10M/datablock6.parquet\n",
      "In [2] used 0.7617 MiB RAM in 0.23s, peaked 0.00 MiB above current, total RAM usage 49.29 MiB\n"
     ]
    }
   ],
   "source": [
    "!ls -lta data_16_10M/datablock*.parquet | head"
   ]
  },
  {
   "cell_type": "code",
   "execution_count": 3,
   "metadata": {},
   "outputs": [
    {
     "name": "stdout",
     "output_type": "stream",
     "text": [
      "In [3] used 71.0195 MiB RAM in 0.95s, peaked 0.00 MiB above current, total RAM usage 120.31 MiB\n"
     ]
    }
   ],
   "source": [
    "import time\n",
    "import dask.dataframe as dd\n",
    "from dask.distributed import Client, progress\n",
    "\n",
    "#ddf = dd.read_parquet('data_100_50M/datablock*.parquet', chunksize=chunksize)\n",
    "ddf = dd.read_parquet('data_16_10M/datablock*.parquet')\n",
    "#print()"
   ]
  },
  {
   "cell_type": "code",
   "execution_count": 4,
   "metadata": {},
   "outputs": [
    {
     "name": "stdout",
     "output_type": "stream",
     "text": [
      "<class 'dask.dataframe.core.DataFrame'>\n",
      "Columns: 3 entries, a to c\n",
      "dtypes: bool(1), float64(2)In [4] used 0.0000 MiB RAM in 0.11s, peaked 0.00 MiB above current, total RAM usage 120.31 MiB\n"
     ]
    }
   ],
   "source": [
    "ddf.info()"
   ]
  },
  {
   "cell_type": "code",
   "execution_count": 5,
   "metadata": {},
   "outputs": [
    {
     "data": {
      "text/html": [
       "<div>\n",
       "<style scoped>\n",
       "    .dataframe tbody tr th:only-of-type {\n",
       "        vertical-align: middle;\n",
       "    }\n",
       "\n",
       "    .dataframe tbody tr th {\n",
       "        vertical-align: top;\n",
       "    }\n",
       "\n",
       "    .dataframe thead th {\n",
       "        text-align: right;\n",
       "    }\n",
       "</style>\n",
       "<table border=\"1\" class=\"dataframe\">\n",
       "  <thead>\n",
       "    <tr style=\"text-align: right;\">\n",
       "      <th></th>\n",
       "      <th>a</th>\n",
       "      <th>b</th>\n",
       "      <th>c</th>\n",
       "    </tr>\n",
       "  </thead>\n",
       "  <tbody>\n",
       "    <tr>\n",
       "      <th>0</th>\n",
       "      <td>6.229213</td>\n",
       "      <td>99.022067</td>\n",
       "      <td>True</td>\n",
       "    </tr>\n",
       "    <tr>\n",
       "      <th>1</th>\n",
       "      <td>47.963104</td>\n",
       "      <td>5.193645</td>\n",
       "      <td>True</td>\n",
       "    </tr>\n",
       "    <tr>\n",
       "      <th>2</th>\n",
       "      <td>56.938338</td>\n",
       "      <td>13.297275</td>\n",
       "      <td>False</td>\n",
       "    </tr>\n",
       "    <tr>\n",
       "      <th>3</th>\n",
       "      <td>45.020820</td>\n",
       "      <td>10.215429</td>\n",
       "      <td>True</td>\n",
       "    </tr>\n",
       "    <tr>\n",
       "      <th>4</th>\n",
       "      <td>73.283511</td>\n",
       "      <td>14.906987</td>\n",
       "      <td>False</td>\n",
       "    </tr>\n",
       "  </tbody>\n",
       "</table>\n",
       "</div>"
      ],
      "text/plain": [
       "           a          b      c\n",
       "0   6.229213  99.022067   True\n",
       "1  47.963104   5.193645   True\n",
       "2  56.938338  13.297275  False\n",
       "3  45.020820  10.215429   True\n",
       "4  73.283511  14.906987  False"
      ]
     },
     "execution_count": 5,
     "metadata": {},
     "output_type": "execute_result"
    },
    {
     "name": "stdout",
     "output_type": "stream",
     "text": [
      "In [5] used 550.9297 MiB RAM in 0.79s, peaked 181.19 MiB above current, total RAM usage 671.24 MiB\n"
     ]
    }
   ],
   "source": [
    "ddf.head()"
   ]
  },
  {
   "cell_type": "code",
   "execution_count": 6,
   "metadata": {},
   "outputs": [
    {
     "data": {
      "text/html": [
       "<div>\n",
       "<style scoped>\n",
       "    .dataframe tbody tr th:only-of-type {\n",
       "        vertical-align: middle;\n",
       "    }\n",
       "\n",
       "    .dataframe tbody tr th {\n",
       "        vertical-align: top;\n",
       "    }\n",
       "\n",
       "    .dataframe thead th {\n",
       "        text-align: right;\n",
       "    }\n",
       "</style>\n",
       "<table border=\"1\" class=\"dataframe\">\n",
       "  <thead>\n",
       "    <tr style=\"text-align: right;\">\n",
       "      <th></th>\n",
       "      <th>a</th>\n",
       "      <th>b</th>\n",
       "      <th>c</th>\n",
       "    </tr>\n",
       "  </thead>\n",
       "  <tbody>\n",
       "    <tr>\n",
       "      <th>1795389</th>\n",
       "      <td>8.124298</td>\n",
       "      <td>27.903569</td>\n",
       "      <td>True</td>\n",
       "    </tr>\n",
       "    <tr>\n",
       "      <th>7619670</th>\n",
       "      <td>42.157127</td>\n",
       "      <td>34.333250</td>\n",
       "      <td>True</td>\n",
       "    </tr>\n",
       "    <tr>\n",
       "      <th>2493774</th>\n",
       "      <td>46.041779</td>\n",
       "      <td>0.862118</td>\n",
       "      <td>True</td>\n",
       "    </tr>\n",
       "    <tr>\n",
       "      <th>6127641</th>\n",
       "      <td>52.090930</td>\n",
       "      <td>31.182907</td>\n",
       "      <td>False</td>\n",
       "    </tr>\n",
       "    <tr>\n",
       "      <th>6510523</th>\n",
       "      <td>12.934024</td>\n",
       "      <td>39.641707</td>\n",
       "      <td>True</td>\n",
       "    </tr>\n",
       "    <tr>\n",
       "      <th>...</th>\n",
       "      <td>...</td>\n",
       "      <td>...</td>\n",
       "      <td>...</td>\n",
       "    </tr>\n",
       "    <tr>\n",
       "      <th>7199130</th>\n",
       "      <td>82.487965</td>\n",
       "      <td>90.331430</td>\n",
       "      <td>False</td>\n",
       "    </tr>\n",
       "    <tr>\n",
       "      <th>96099</th>\n",
       "      <td>49.420155</td>\n",
       "      <td>79.148501</td>\n",
       "      <td>True</td>\n",
       "    </tr>\n",
       "    <tr>\n",
       "      <th>2949156</th>\n",
       "      <td>35.195434</td>\n",
       "      <td>5.463790</td>\n",
       "      <td>True</td>\n",
       "    </tr>\n",
       "    <tr>\n",
       "      <th>1037057</th>\n",
       "      <td>95.346796</td>\n",
       "      <td>36.790486</td>\n",
       "      <td>False</td>\n",
       "    </tr>\n",
       "    <tr>\n",
       "      <th>7908476</th>\n",
       "      <td>57.465333</td>\n",
       "      <td>41.296687</td>\n",
       "      <td>False</td>\n",
       "    </tr>\n",
       "  </tbody>\n",
       "</table>\n",
       "<p>160 rows × 3 columns</p>\n",
       "</div>"
      ],
      "text/plain": [
       "                 a          b      c\n",
       "1795389   8.124298  27.903569   True\n",
       "7619670  42.157127  34.333250   True\n",
       "2493774  46.041779   0.862118   True\n",
       "6127641  52.090930  31.182907  False\n",
       "6510523  12.934024  39.641707   True\n",
       "...            ...        ...    ...\n",
       "7199130  82.487965  90.331430  False\n",
       "96099    49.420155  79.148501   True\n",
       "2949156  35.195434   5.463790   True\n",
       "1037057  95.346796  36.790486  False\n",
       "7908476  57.465333  41.296687  False\n",
       "\n",
       "[160 rows x 3 columns]"
      ]
     },
     "execution_count": 6,
     "metadata": {},
     "output_type": "execute_result"
    },
    {
     "name": "stdout",
     "output_type": "stream",
     "text": [
      "In [6] used -232.2109 MiB RAM in 14.77s, peaked 2848.50 MiB above current, total RAM usage 439.03 MiB\n"
     ]
    }
   ],
   "source": [
    "# can't ask for n, have to ask for a fraction\n",
    "ddf.sample(frac=0.000001).compute() # 10-60sec"
   ]
  },
  {
   "cell_type": "markdown",
   "metadata": {},
   "source": [
    "## We can calculate the RAM stored in each partition\n",
    "\n",
    "* float64 is 8 bytes, 10M * 8 == 80MB\n",
    "* 2 * float64 * 10M == 160MB + 1 * byte == 170MB"
   ]
  },
  {
   "cell_type": "code",
   "execution_count": 7,
   "metadata": {},
   "outputs": [
    {
     "data": {
      "text/plain": [
       "0     170000128\n",
       "1     170000128\n",
       "2     170000128\n",
       "3     170000128\n",
       "4     170000128\n",
       "5     170000128\n",
       "6     170000128\n",
       "7     170000128\n",
       "8     170000128\n",
       "9     170000128\n",
       "10    170000128\n",
       "11    170000128\n",
       "12    170000128\n",
       "13    170000128\n",
       "14    170000128\n",
       "15    170000128\n",
       "dtype: int64"
      ]
     },
     "execution_count": 7,
     "metadata": {},
     "output_type": "execute_result"
    },
    {
     "name": "stdout",
     "output_type": "stream",
     "text": [
      "In [7] used 640.8008 MiB RAM in 4.84s, peaked 2805.31 MiB above current, total RAM usage 1079.83 MiB\n"
     ]
    }
   ],
   "source": [
    "ddf.memory_usage_per_partition().compute()"
   ]
  },
  {
   "cell_type": "markdown",
   "metadata": {},
   "source": [
    "# Make a Client for diagnostics\n",
    "\n",
    "Be aware that out of memory errors are common with large partitions!"
   ]
  },
  {
   "cell_type": "code",
   "execution_count": 8,
   "metadata": {},
   "outputs": [
    {
     "data": {
      "text/html": [
       "<table style=\"border: 2px solid white;\">\n",
       "<tr>\n",
       "<td style=\"vertical-align: top; border: 0px solid white\">\n",
       "<h3 style=\"text-align: left;\">Client</h3>\n",
       "<ul style=\"text-align: left; list-style: none; margin: 0; padding: 0;\">\n",
       "  <li><b>Scheduler: </b>tcp://127.0.0.1:45381</li>\n",
       "  <li><b>Dashboard: </b><a href='http://127.0.0.1:8787/status' target='_blank'>http://127.0.0.1:8787/status</a>\n",
       "</ul>\n",
       "</td>\n",
       "<td style=\"vertical-align: top; border: 0px solid white\">\n",
       "<h3 style=\"text-align: left;\">Cluster</h3>\n",
       "<ul style=\"text-align: left; list-style:none; margin: 0; padding: 0;\">\n",
       "  <li><b>Workers: </b>2</li>\n",
       "  <li><b>Cores: </b>2</li>\n",
       "  <li><b>Memory: </b>16.00 GB</li>\n",
       "</ul>\n",
       "</td>\n",
       "</tr>\n",
       "</table>"
      ],
      "text/plain": [
       "<Client: 'tcp://127.0.0.1:45381' processes=2 threads=2, memory=16.00 GB>"
      ]
     },
     "execution_count": 8,
     "metadata": {},
     "output_type": "execute_result"
    },
    {
     "name": "stdout",
     "output_type": "stream",
     "text": [
      "In [8] used -623.3789 MiB RAM in 1.38s, peaked 314.27 MiB above current, total RAM usage 456.45 MiB\n"
     ]
    }
   ],
   "source": [
    "client = Client(n_workers=2, threads_per_worker=1, memory_limit='8GB')\n",
    "client"
   ]
  },
  {
   "cell_type": "code",
   "execution_count": 9,
   "metadata": {},
   "outputs": [
    {
     "name": "stdout",
     "output_type": "stream",
     "text": [
      "Took 51.00003623962402\n"
     ]
    },
    {
     "data": {
      "text/plain": [
       "a    100.000000\n",
       "b     99.999998\n",
       "c      1.000000\n",
       "dtype: float64"
      ]
     },
     "execution_count": 9,
     "metadata": {},
     "output_type": "execute_result"
    },
    {
     "name": "stdout",
     "output_type": "stream",
     "text": [
      "In [9] used 2.4023 MiB RAM in 51.11s, peaked 0.00 MiB above current, total RAM usage 458.85 MiB\n"
     ]
    }
   ],
   "source": [
    "t1 = time.time()\n",
    "result = ddf.max().compute()\n",
    "delta = time.time() - t1\n",
    "print(f\"Took {delta}\")\n",
    "result"
   ]
  },
  {
   "cell_type": "code",
   "execution_count": 10,
   "metadata": {},
   "outputs": [
    {
     "name": "stdout",
     "output_type": "stream",
     "text": [
      "Took 26.154868364334106\n"
     ]
    },
    {
     "data": {
      "text/html": [
       "<div>\n",
       "<style scoped>\n",
       "    .dataframe tbody tr th:only-of-type {\n",
       "        vertical-align: middle;\n",
       "    }\n",
       "\n",
       "    .dataframe tbody tr th {\n",
       "        vertical-align: top;\n",
       "    }\n",
       "\n",
       "    .dataframe thead th {\n",
       "        text-align: right;\n",
       "    }\n",
       "</style>\n",
       "<table border=\"1\" class=\"dataframe\">\n",
       "  <thead>\n",
       "    <tr style=\"text-align: right;\">\n",
       "      <th></th>\n",
       "      <th>a</th>\n",
       "      <th>b</th>\n",
       "    </tr>\n",
       "    <tr>\n",
       "      <th>c</th>\n",
       "      <th></th>\n",
       "      <th></th>\n",
       "    </tr>\n",
       "  </thead>\n",
       "  <tbody>\n",
       "    <tr>\n",
       "      <th>False</th>\n",
       "      <td>75.001322</td>\n",
       "      <td>50.000123</td>\n",
       "    </tr>\n",
       "    <tr>\n",
       "      <th>True</th>\n",
       "      <td>25.000493</td>\n",
       "      <td>50.005265</td>\n",
       "    </tr>\n",
       "  </tbody>\n",
       "</table>\n",
       "</div>"
      ],
      "text/plain": [
       "               a          b\n",
       "c                          \n",
       "False  75.001322  50.000123\n",
       "True   25.000493  50.005265"
      ]
     },
     "execution_count": 10,
     "metadata": {},
     "output_type": "execute_result"
    },
    {
     "name": "stdout",
     "output_type": "stream",
     "text": [
      "In [10] used 1.1016 MiB RAM in 26.27s, peaked 0.00 MiB above current, total RAM usage 459.95 MiB\n"
     ]
    }
   ],
   "source": [
    "t1 = time.time()\n",
    "result = ddf.groupby('c').mean().compute()\n",
    "delta = time.time() - t1\n",
    "print(f\"Took {delta}\")\n",
    "result"
   ]
  },
  {
   "cell_type": "code",
   "execution_count": 11,
   "metadata": {},
   "outputs": [
    {
     "data": {
      "text/html": [
       "<div>\n",
       "<style scoped>\n",
       "    .dataframe tbody tr th:only-of-type {\n",
       "        vertical-align: middle;\n",
       "    }\n",
       "\n",
       "    .dataframe tbody tr th {\n",
       "        vertical-align: top;\n",
       "    }\n",
       "\n",
       "    .dataframe thead th {\n",
       "        text-align: right;\n",
       "    }\n",
       "</style>\n",
       "<table border=\"1\" class=\"dataframe\">\n",
       "  <thead>\n",
       "    <tr style=\"text-align: right;\">\n",
       "      <th></th>\n",
       "      <th>a</th>\n",
       "      <th>b</th>\n",
       "    </tr>\n",
       "  </thead>\n",
       "  <tbody>\n",
       "    <tr>\n",
       "      <th>count</th>\n",
       "      <td>1.600000e+08</td>\n",
       "      <td>1.600000e+08</td>\n",
       "    </tr>\n",
       "    <tr>\n",
       "      <th>mean</th>\n",
       "      <td>5.000143e+01</td>\n",
       "      <td>5.000269e+01</td>\n",
       "    </tr>\n",
       "    <tr>\n",
       "      <th>std</th>\n",
       "      <td>2.886777e+01</td>\n",
       "      <td>2.886803e+01</td>\n",
       "    </tr>\n",
       "    <tr>\n",
       "      <th>min</th>\n",
       "      <td>1.390652e-06</td>\n",
       "      <td>4.087862e-07</td>\n",
       "    </tr>\n",
       "    <tr>\n",
       "      <th>25%</th>\n",
       "      <td>2.502155e+01</td>\n",
       "      <td>2.501634e+01</td>\n",
       "    </tr>\n",
       "    <tr>\n",
       "      <th>50%</th>\n",
       "      <td>5.002219e+01</td>\n",
       "      <td>5.002671e+01</td>\n",
       "    </tr>\n",
       "    <tr>\n",
       "      <th>75%</th>\n",
       "      <td>7.501911e+01</td>\n",
       "      <td>7.502436e+01</td>\n",
       "    </tr>\n",
       "    <tr>\n",
       "      <th>max</th>\n",
       "      <td>1.000000e+02</td>\n",
       "      <td>1.000000e+02</td>\n",
       "    </tr>\n",
       "  </tbody>\n",
       "</table>\n",
       "</div>"
      ],
      "text/plain": [
       "                  a             b\n",
       "count  1.600000e+08  1.600000e+08\n",
       "mean   5.000143e+01  5.000269e+01\n",
       "std    2.886777e+01  2.886803e+01\n",
       "min    1.390652e-06  4.087862e-07\n",
       "25%    2.502155e+01  2.501634e+01\n",
       "50%    5.002219e+01  5.002671e+01\n",
       "75%    7.501911e+01  7.502436e+01\n",
       "max    1.000000e+02  1.000000e+02"
      ]
     },
     "execution_count": 11,
     "metadata": {},
     "output_type": "execute_result"
    },
    {
     "name": "stdout",
     "output_type": "stream",
     "text": [
      "In [11] used 5.0938 MiB RAM in 71.84s, peaked 0.00 MiB above current, total RAM usage 465.05 MiB\n"
     ]
    }
   ],
   "source": [
    "ddf.describe().compute() # VERY SLOW!"
   ]
  },
  {
   "cell_type": "code",
   "execution_count": 12,
   "metadata": {},
   "outputs": [
    {
     "name": "stdout",
     "output_type": "stream",
     "text": [
      "In [12] used 0.2109 MiB RAM in 1.48s, peaked 0.08 MiB above current, total RAM usage 465.26 MiB\n"
     ]
    }
   ],
   "source": [
    "client.close()"
   ]
  },
  {
   "cell_type": "code",
   "execution_count": null,
   "metadata": {},
   "outputs": [],
   "source": []
  }
 ],
 "metadata": {
  "kernelspec": {
   "display_name": "Python 3",
   "language": "python",
   "name": "python3"
  },
  "language_info": {
   "codemirror_mode": {
    "name": "ipython",
    "version": 3
   },
   "file_extension": ".py",
   "mimetype": "text/x-python",
   "name": "python",
   "nbconvert_exporter": "python",
   "pygments_lexer": "ipython3",
   "version": "3.7.6"
  }
 },
 "nbformat": 4,
 "nbformat_minor": 4
}
