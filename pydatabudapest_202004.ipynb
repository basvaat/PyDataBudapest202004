{
 "cells": [
  {
   "cell_type": "markdown",
   "metadata": {},
   "source": [
    "# Making Pandas Fly\n",
    "\n",
    "* Saving RAM\n",
    "  * Categories including making faster queries\n",
    "  * Smaller dtypes\n",
    "* Pandas vs NumPy operations\n",
    "* Numba for compilation\n",
    "* Different ways to solve the same task"
   ]
  },
  {
   "cell_type": "code",
   "execution_count": 1,
   "metadata": {},
   "outputs": [
    {
     "data": {
      "text/plain": [
       "'memory profile enabled'"
      ]
     },
     "execution_count": 1,
     "metadata": {},
     "output_type": "execute_result"
    },
    {
     "name": "stdout",
     "output_type": "stream",
     "text": [
      "In [1] used 0.1992 MiB RAM in 0.11s, peaked 0.00 MiB above current, total RAM usage 83.59 MiB\n"
     ]
    }
   ],
   "source": [
    "import numpy as np\n",
    "import pandas as pd\n",
    "import datetime\n",
    "import random\n",
    "import ipython_memory_usage\n",
    "%ipython_memory_usage_start"
   ]
  },
  {
   "cell_type": "code",
   "execution_count": 2,
   "metadata": {},
   "outputs": [
    {
     "name": "stdout",
     "output_type": "stream",
     "text": [
      "CPython 3.7.6\n",
      "IPython 7.13.0\n",
      "\n",
      "pandas 1.0.1\n",
      "numexpr 2.7.1\n",
      "\n",
      "compiler   : GCC 7.3.0\n",
      "system     : Linux\n",
      "release    : 5.3.0-46-generic\n",
      "machine    : x86_64\n",
      "processor  : x86_64\n",
      "CPU cores  : 8\n",
      "interpreter: 64bit\n",
      "In [2] used 4.2617 MiB RAM in 0.24s, peaked 0.00 MiB above current, total RAM usage 87.85 MiB\n"
     ]
    }
   ],
   "source": [
    "%load_ext watermark\n",
    "%watermark -v -m -p pandas,numexpr"
   ]
  },
  {
   "cell_type": "markdown",
   "metadata": {},
   "source": [
    "## Read _all_ data into RAM in one go"
   ]
  },
  {
   "cell_type": "code",
   "execution_count": 3,
   "metadata": {},
   "outputs": [
    {
     "name": "stdout",
     "output_type": "stream",
     "text": [
      "In [3] used 804.9336 MiB RAM in 4.55s, peaked 238.04 MiB above current, total RAM usage 892.78 MiB\n"
     ]
    }
   ],
   "source": [
    "df_all = pd.read_pickle('merged_smaller.pickle.zip')\n",
    "assert df_all[df_all.IncorporationDate.isna()].shape[0] == 0"
   ]
  },
  {
   "cell_type": "code",
   "execution_count": 4,
   "metadata": {},
   "outputs": [
    {
     "data": {
      "text/plain": [
       "(4593760, 3)"
      ]
     },
     "execution_count": 4,
     "metadata": {},
     "output_type": "execute_result"
    },
    {
     "name": "stdout",
     "output_type": "stream",
     "text": [
      "In [4] used -1.0938 MiB RAM in 0.10s, peaked 0.00 MiB above current, total RAM usage 891.69 MiB\n"
     ]
    }
   ],
   "source": [
    "df = df_all\n",
    "df.shape"
   ]
  },
  {
   "cell_type": "code",
   "execution_count": 5,
   "metadata": {},
   "outputs": [
    {
     "data": {
      "text/html": [
       "<div>\n",
       "<style scoped>\n",
       "    .dataframe tbody tr th:only-of-type {\n",
       "        vertical-align: middle;\n",
       "    }\n",
       "\n",
       "    .dataframe tbody tr th {\n",
       "        vertical-align: top;\n",
       "    }\n",
       "\n",
       "    .dataframe thead th {\n",
       "        text-align: right;\n",
       "    }\n",
       "</style>\n",
       "<table border=\"1\" class=\"dataframe\">\n",
       "  <thead>\n",
       "    <tr style=\"text-align: right;\">\n",
       "      <th></th>\n",
       "      <th>CompanyName</th>\n",
       "      <th>CompanyStatus</th>\n",
       "      <th>IncorporationDate</th>\n",
       "    </tr>\n",
       "    <tr>\n",
       "      <th>CompanyNumber</th>\n",
       "      <th></th>\n",
       "      <th></th>\n",
       "      <th></th>\n",
       "    </tr>\n",
       "  </thead>\n",
       "  <tbody>\n",
       "    <tr>\n",
       "      <th>08209948</th>\n",
       "      <td>! LTD</td>\n",
       "      <td>Active</td>\n",
       "      <td>2012-09-11</td>\n",
       "    </tr>\n",
       "    <tr>\n",
       "      <th>11399177</th>\n",
       "      <td>!? LTD</td>\n",
       "      <td>Active</td>\n",
       "      <td>2018-06-05</td>\n",
       "    </tr>\n",
       "    <tr>\n",
       "      <th>11743365</th>\n",
       "      <td>!BIG IMPACT GRAPHICS LIMITED</td>\n",
       "      <td>Active</td>\n",
       "      <td>2018-12-28</td>\n",
       "    </tr>\n",
       "    <tr>\n",
       "      <th>12402527</th>\n",
       "      <td>!L PRODUCTIONS LIMITED</td>\n",
       "      <td>Active</td>\n",
       "      <td>2020-01-14</td>\n",
       "    </tr>\n",
       "    <tr>\n",
       "      <th>12234705</th>\n",
       "      <td>!NKED LTD</td>\n",
       "      <td>Active</td>\n",
       "      <td>2019-09-30</td>\n",
       "    </tr>\n",
       "  </tbody>\n",
       "</table>\n",
       "</div>"
      ],
      "text/plain": [
       "                                CompanyName CompanyStatus IncorporationDate\n",
       "CompanyNumber                                                              \n",
       "08209948                              ! LTD        Active        2012-09-11\n",
       "11399177                             !? LTD        Active        2018-06-05\n",
       "11743365       !BIG IMPACT GRAPHICS LIMITED        Active        2018-12-28\n",
       "12402527             !L PRODUCTIONS LIMITED        Active        2020-01-14\n",
       "12234705                          !NKED LTD        Active        2019-09-30"
      ]
     },
     "execution_count": 5,
     "metadata": {},
     "output_type": "execute_result"
    },
    {
     "name": "stdout",
     "output_type": "stream",
     "text": [
      "In [5] used 0.4336 MiB RAM in 0.11s, peaked 0.00 MiB above current, total RAM usage 892.12 MiB\n"
     ]
    }
   ],
   "source": [
    "df.head()"
   ]
  },
  {
   "cell_type": "markdown",
   "metadata": {},
   "source": [
    "# Categories"
   ]
  },
  {
   "cell_type": "code",
   "execution_count": 6,
   "metadata": {},
   "outputs": [
    {
     "data": {
      "text/plain": [
       "Active                                              4260241\n",
       "Active - Proposal to Strike off                      171815\n",
       "Liquidation                                           92551\n",
       "Dissolved                                             62824\n",
       "In Administration                                      3221\n",
       "Live but Receiver Manager on at least one charge       1315\n",
       "Voluntary Arrangement                                   955\n",
       "In Administration/Administrative Receiver               324\n",
       "RECEIVERSHIP                                            195\n",
       "ADMINISTRATION ORDER                                    130\n",
       "ADMINISTRATIVE RECEIVER                                 120\n",
       "In Administration/Receiver Manager                       31\n",
       "Converted / Closed                                       17\n",
       "RECEIVER MANAGER / ADMINISTRATIVE RECEIVER               17\n",
       "VOLUNTARY ARRANGEMENT / RECEIVER MANAGER                  3\n",
       "VOLUNTARY ARRANGEMENT / ADMINISTRATIVE RECEIVER           1\n",
       "Name: CompanyStatus, dtype: int64"
      ]
     },
     "execution_count": 6,
     "metadata": {},
     "output_type": "execute_result"
    },
    {
     "name": "stdout",
     "output_type": "stream",
     "text": [
      "In [6] used 0.0742 MiB RAM in 0.60s, peaked 0.00 MiB above current, total RAM usage 892.20 MiB\n"
     ]
    }
   ],
   "source": [
    "df.CompanyStatus.value_counts()"
   ]
  },
  {
   "cell_type": "code",
   "execution_count": 7,
   "metadata": {},
   "outputs": [
    {
     "data": {
      "text/plain": [
       "73500160"
      ]
     },
     "execution_count": 7,
     "metadata": {},
     "output_type": "execute_result"
    },
    {
     "name": "stdout",
     "output_type": "stream",
     "text": [
      "In [7] used 0.0000 MiB RAM in 0.11s, peaked 0.00 MiB above current, total RAM usage 892.20 MiB\n"
     ]
    }
   ],
   "source": [
    "df.CompanyStatus.memory_usage()"
   ]
  },
  {
   "cell_type": "code",
   "execution_count": 8,
   "metadata": {},
   "outputs": [
    {
     "name": "stdout",
     "output_type": "stream",
     "text": [
      "In [8] used 0.2383 MiB RAM in 0.50s, peaked 58.02 MiB above current, total RAM usage 892.43 MiB\n"
     ]
    }
   ],
   "source": [
    "df['CompanyStatus_cat'] = df.CompanyStatus.astype('category')"
   ]
  },
  {
   "cell_type": "code",
   "execution_count": 9,
   "metadata": {},
   "outputs": [
    {
     "data": {
      "text/plain": [
       "Active                                              4260241\n",
       "Active - Proposal to Strike off                      171815\n",
       "Liquidation                                           92551\n",
       "Dissolved                                             62824\n",
       "In Administration                                      3221\n",
       "Live but Receiver Manager on at least one charge       1315\n",
       "Voluntary Arrangement                                   955\n",
       "In Administration/Administrative Receiver               324\n",
       "RECEIVERSHIP                                            195\n",
       "ADMINISTRATION ORDER                                    130\n",
       "ADMINISTRATIVE RECEIVER                                 120\n",
       "In Administration/Receiver Manager                       31\n",
       "RECEIVER MANAGER / ADMINISTRATIVE RECEIVER               17\n",
       "Converted / Closed                                       17\n",
       "VOLUNTARY ARRANGEMENT / RECEIVER MANAGER                  3\n",
       "VOLUNTARY ARRANGEMENT / ADMINISTRATIVE RECEIVER           1\n",
       "Name: CompanyStatus_cat, dtype: int64"
      ]
     },
     "execution_count": 9,
     "metadata": {},
     "output_type": "execute_result"
    },
    {
     "name": "stdout",
     "output_type": "stream",
     "text": [
      "In [9] used 0.0938 MiB RAM in 0.18s, peaked 0.00 MiB above current, total RAM usage 892.53 MiB\n"
     ]
    }
   ],
   "source": [
    "df['CompanyStatus_cat'].value_counts()"
   ]
  },
  {
   "cell_type": "code",
   "execution_count": 10,
   "metadata": {},
   "outputs": [
    {
     "data": {
      "text/plain": [
       "41344608"
      ]
     },
     "execution_count": 10,
     "metadata": {},
     "output_type": "execute_result"
    },
    {
     "name": "stdout",
     "output_type": "stream",
     "text": [
      "In [10] used 0.1016 MiB RAM in 0.11s, peaked 0.00 MiB above current, total RAM usage 892.63 MiB\n"
     ]
    }
   ],
   "source": [
    "df['CompanyStatus_cat'].memory_usage()"
   ]
  },
  {
   "cell_type": "code",
   "execution_count": 11,
   "metadata": {},
   "outputs": [
    {
     "data": {
      "text/plain": [
       "Index(['ADMINISTRATION ORDER', 'ADMINISTRATIVE RECEIVER', 'Active',\n",
       "       'Active - Proposal to Strike off', 'Converted / Closed', 'Dissolved',\n",
       "       'In Administration', 'In Administration/Administrative Receiver',\n",
       "       'In Administration/Receiver Manager', 'Liquidation',\n",
       "       'Live but Receiver Manager on at least one charge',\n",
       "       'RECEIVER MANAGER / ADMINISTRATIVE RECEIVER', 'RECEIVERSHIP',\n",
       "       'VOLUNTARY ARRANGEMENT / ADMINISTRATIVE RECEIVER',\n",
       "       'VOLUNTARY ARRANGEMENT / RECEIVER MANAGER', 'Voluntary Arrangement'],\n",
       "      dtype='object')"
      ]
     },
     "execution_count": 11,
     "metadata": {},
     "output_type": "execute_result"
    },
    {
     "name": "stdout",
     "output_type": "stream",
     "text": [
      "In [11] used 0.0000 MiB RAM in 0.11s, peaked 0.00 MiB above current, total RAM usage 892.63 MiB\n"
     ]
    }
   ],
   "source": [
    "df['CompanyStatus_cat'].cat.categories"
   ]
  },
  {
   "cell_type": "code",
   "execution_count": 12,
   "metadata": {},
   "outputs": [
    {
     "data": {
      "text/plain": [
       "CompanyNumber\n",
       "08209948    2\n",
       "11399177    2\n",
       "11743365    2\n",
       "12402527    2\n",
       "12234705    2\n",
       "           ..\n",
       "11558494    5\n",
       "11557513    5\n",
       "12547694    2\n",
       "11485704    5\n",
       "11637310    5\n",
       "Length: 4593760, dtype: int8"
      ]
     },
     "execution_count": 12,
     "metadata": {},
     "output_type": "execute_result"
    },
    {
     "name": "stdout",
     "output_type": "stream",
     "text": [
      "In [12] used 152.6641 MiB RAM in 4.12s, peaked 0.00 MiB above current, total RAM usage 1045.29 MiB\n"
     ]
    }
   ],
   "source": [
    "df['CompanyStatus_cat'].cat.codes"
   ]
  },
  {
   "cell_type": "code",
   "execution_count": 13,
   "metadata": {},
   "outputs": [
    {
     "name": "stdout",
     "output_type": "stream",
     "text": [
      "484 ms ± 16.8 ms per loop (mean ± std. dev. of 7 runs, 1 loop each)\n",
      "In [13] used 0.0898 MiB RAM in 4.01s, peaked 0.00 MiB above current, total RAM usage 1045.38 MiB\n"
     ]
    }
   ],
   "source": [
    "%timeit df['CompanyStatus'].value_counts()"
   ]
  },
  {
   "cell_type": "code",
   "execution_count": 14,
   "metadata": {},
   "outputs": [
    {
     "name": "stdout",
     "output_type": "stream",
     "text": [
      "37.6 ms ± 13.5 ms per loop (mean ± std. dev. of 7 runs, 10 loops each)\n",
      "In [14] used 0.0469 MiB RAM in 3.38s, peaked 35.03 MiB above current, total RAM usage 1045.43 MiB\n"
     ]
    }
   ],
   "source": [
    "%timeit df['CompanyStatus_cat'].value_counts() # HUGE SAVING"
   ]
  },
  {
   "cell_type": "code",
   "execution_count": 15,
   "metadata": {},
   "outputs": [
    {
     "name": "stdout",
     "output_type": "stream",
     "text": [
      "In [15] used 245.3516 MiB RAM in 0.53s, peaked 0.00 MiB above current, total RAM usage 1290.78 MiB\n"
     ]
    }
   ],
   "source": [
    "df2_cat = df.set_index('CompanyStatus_cat')\n",
    "df2_nocat = df.set_index('CompanyStatus')"
   ]
  },
  {
   "cell_type": "markdown",
   "metadata": {},
   "source": [
    "## Make a mask for a query on the index"
   ]
  },
  {
   "cell_type": "code",
   "execution_count": 16,
   "metadata": {},
   "outputs": [
    {
     "name": "stdout",
     "output_type": "stream",
     "text": [
      "848 µs ± 584 µs per loop (mean ± std. dev. of 7 runs, 100 loops each)\n",
      "In [16] used 0.0195 MiB RAM in 0.93s, peaked 0.00 MiB above current, total RAM usage 1290.80 MiB\n"
     ]
    }
   ],
   "source": [
    "%timeit (df2_cat.index == 'Liquidation')"
   ]
  },
  {
   "cell_type": "code",
   "execution_count": 17,
   "metadata": {},
   "outputs": [
    {
     "name": "stdout",
     "output_type": "stream",
     "text": [
      "271 ms ± 8.22 ms per loop (mean ± std. dev. of 7 runs, 1 loop each)\n",
      "In [17] used 0.0000 MiB RAM in 2.27s, peaked 0.00 MiB above current, total RAM usage 1290.80 MiB\n"
     ]
    }
   ],
   "source": [
    "%timeit (df2_nocat.index == 'Liquidation')"
   ]
  },
  {
   "cell_type": "markdown",
   "metadata": {},
   "source": [
    "# Make a new column\n",
    "\n",
    "Which `dtype` is best to use? How small can we go?"
   ]
  },
  {
   "cell_type": "code",
   "execution_count": 18,
   "metadata": {},
   "outputs": [
    {
     "name": "stdout",
     "output_type": "stream",
     "text": [
      "In [18] used 70.1719 MiB RAM in 0.37s, peaked 0.00 MiB above current, total RAM usage 1360.97 MiB\n"
     ]
    }
   ],
   "source": [
    "now = datetime.datetime.now()\n",
    "age_deltas = now - df.IncorporationDate\n",
    "df['age_years'] = age_deltas.dt.days / 360"
   ]
  },
  {
   "cell_type": "code",
   "execution_count": 19,
   "metadata": {},
   "outputs": [
    {
     "data": {
      "image/png": "[encoded data removed]",
      "text/plain": [
       "<Figure size 432x288 with 1 Axes>"
      ]
     },
     "metadata": {
      "needs_background": "light"
     },
     "output_type": "display_data"
    },
    {
     "name": "stdout",
     "output_type": "stream",
     "text": [
      "In [19] used 14.6602 MiB RAM in 1.16s, peaked 34.26 MiB above current, total RAM usage 1375.63 MiB\n"
     ]
    }
   ],
   "source": [
    "df['age_years'].hist(bins=100);"
   ]
  },
  {
   "cell_type": "code",
   "execution_count": 20,
   "metadata": {},
   "outputs": [
    {
     "data": {
      "text/plain": [
       "count    4.593760e+06\n",
       "mean     8.766208e+00\n",
       "std      1.157942e+01\n",
       "min      1.666667e-02\n",
       "25%      1.777778e+00\n",
       "50%      4.955556e+00\n",
       "75%      1.132500e+01\n",
       "max      2.094806e+02\n",
       "Name: age_years, dtype: float64"
      ]
     },
     "execution_count": 20,
     "metadata": {},
     "output_type": "execute_result"
    },
    {
     "name": "stdout",
     "output_type": "stream",
     "text": [
      "In [20] used 0.3867 MiB RAM in 0.41s, peaked 102.87 MiB above current, total RAM usage 1376.02 MiB\n"
     ]
    }
   ],
   "source": [
    "df.age_years.describe()"
   ]
  },
  {
   "cell_type": "code",
   "execution_count": 21,
   "metadata": {},
   "outputs": [
    {
     "data": {
      "text/plain": [
       "count    4.593760e+06\n",
       "mean     8.766208e+00\n",
       "std      1.157942e+01\n",
       "min      1.666667e-02\n",
       "25%      1.777778e+00\n",
       "50%      4.955556e+00\n",
       "75%      1.132500e+01\n",
       "max      2.094806e+02\n",
       "Name: age_years, dtype: float64"
      ]
     },
     "execution_count": 21,
     "metadata": {},
     "output_type": "execute_result"
    },
    {
     "name": "stdout",
     "output_type": "stream",
     "text": [
      "In [21] used 15.7422 MiB RAM in 0.47s, peaked 73.02 MiB above current, total RAM usage 1391.76 MiB\n"
     ]
    }
   ],
   "source": [
    "df['age_years_smaller'] = df.age_years.astype(\"float32\")\n",
    "df['age_years'].describe()"
   ]
  },
  {
   "cell_type": "code",
   "execution_count": 22,
   "metadata": {},
   "outputs": [
    {
     "data": {
      "text/plain": [
       "Index                204522240\n",
       "age_years             36750080\n",
       "age_years_smaller     18375040\n",
       "dtype: int64"
      ]
     },
     "execution_count": 22,
     "metadata": {},
     "output_type": "execute_result"
    },
    {
     "name": "stdout",
     "output_type": "stream",
     "text": [
      "In [22] used 0.0117 MiB RAM in 0.16s, peaked 0.00 MiB above current, total RAM usage 1391.77 MiB\n"
     ]
    }
   ],
   "source": [
    "df[['age_years', 'age_years_smaller']].memory_usage()"
   ]
  },
  {
   "cell_type": "code",
   "execution_count": 23,
   "metadata": {},
   "outputs": [
    {
     "name": "stdout",
     "output_type": "stream",
     "text": [
      "Range 0.0167 - 209.4806, float64 36,750,080\n",
      "Range 0.0167 - 209.4806, float32 18,375,040\n",
      "Range 0.0167 - 209.5000, float16 9,187,520\n",
      "In [23] used 21.8438 MiB RAM in 0.34s, peaked 13.20 MiB above current, total RAM usage 1413.62 MiB\n"
     ]
    }
   ],
   "source": [
    "ser = df.age_years \n",
    "print(f\"Range {ser.min():0.4f} - {ser.max():0.4f}, {ser.dtype} {ser.nbytes:,}\")\n",
    "ser = ser.astype(\"float32\")\n",
    "print(f\"Range {ser.min():0.4f} - {ser.max():0.4f}, {ser.dtype} {ser.nbytes:,}\")\n",
    "ser = ser.astype(\"float16\") # NOTE hardware _interpreted_ so slow\n",
    "print(f\"Range {ser.min():0.4f} - {ser.max():0.4f}, {ser.dtype} {ser.nbytes:,}\")"
   ]
  },
  {
   "cell_type": "code",
   "execution_count": 24,
   "metadata": {},
   "outputs": [
    {
     "name": "stdout",
     "output_type": "stream",
     "text": [
      "<class 'pandas.core.frame.DataFrame'>\n",
      "Index: 4593760 entries, 08209948 to 11637310\n",
      "Data columns (total 2 columns):\n",
      " #   Column         Dtype  \n",
      "---  ------         -----  \n",
      " 0   CompanyStatus  object \n",
      " 1   age_years      float64\n",
      "dtypes: float64(1), object(1)\n",
      "memory usage: 760.6 MB\n",
      "In [24] used 70.1484 MiB RAM in 21.90s, peaked 0.00 MiB above current, total RAM usage 1483.77 MiB\n"
     ]
    }
   ],
   "source": [
    "# let's assume you just wanted the status & age columns\n",
    "df_original_ram = df[['CompanyStatus', 'age_years']]\n",
    "df_original_ram.info(memory_usage=\"deep\")"
   ]
  },
  {
   "cell_type": "code",
   "execution_count": 25,
   "metadata": {},
   "outputs": [
    {
     "name": "stdout",
     "output_type": "stream",
     "text": [
      "<class 'pandas.core.frame.DataFrame'>\n",
      "Index: 4593760 entries, 08209948 to 11637310\n",
      "Data columns (total 2 columns):\n",
      " #   Column             Dtype   \n",
      "---  ------             -----   \n",
      " 0   CompanyStatus_cat  category\n",
      " 1   age_years_smaller  float32 \n",
      "dtypes: category(1), float32(1)\n",
      "memory usage: 466.7 MB\n",
      "In [25] used 4.2656 MiB RAM in 11.73s, peaked 0.00 MiB above current, total RAM usage 1488.03 MiB\n"
     ]
    }
   ],
   "source": [
    "df_smaller_ram = df[['CompanyStatus_cat', 'age_years_smaller']]\n",
    "df_smaller_ram.info(memory_usage=\"deep\")"
   ]
  },
  {
   "cell_type": "markdown",
   "metadata": {},
   "source": [
    "# Query speeds"
   ]
  },
  {
   "cell_type": "code",
   "execution_count": 26,
   "metadata": {},
   "outputs": [
    {
     "data": {
      "text/plain": [
       "(2308970, 6)"
      ]
     },
     "execution_count": 26,
     "metadata": {},
     "output_type": "execute_result"
    },
    {
     "name": "stdout",
     "output_type": "stream",
     "text": [
      "In [26] used 0.4062 MiB RAM in 0.76s, peaked 87.75 MiB above current, total RAM usage 1488.44 MiB\n"
     ]
    }
   ],
   "source": [
    "target_age = 5\n",
    "df.query('age_years < @target_age').shape"
   ]
  },
  {
   "cell_type": "code",
   "execution_count": 27,
   "metadata": {},
   "outputs": [
    {
     "name": "stdout",
     "output_type": "stream",
     "text": [
      "796 ms ± 200 ms per loop (mean ± std. dev. of 7 runs, 1 loop each)\n",
      "In [27] used 0.0000 MiB RAM in 6.83s, peaked 87.93 MiB above current, total RAM usage 1488.44 MiB\n"
     ]
    }
   ],
   "source": [
    "%timeit df.query('age_years < 5')"
   ]
  },
  {
   "cell_type": "code",
   "execution_count": 28,
   "metadata": {},
   "outputs": [
    {
     "name": "stdout",
     "output_type": "stream",
     "text": [
      "409 ms ± 136 ms per loop (mean ± std. dev. of 7 runs, 1 loop each)\n",
      "In [28] used 0.0508 MiB RAM in 3.28s, peaked 87.93 MiB above current, total RAM usage 1488.49 MiB\n"
     ]
    }
   ],
   "source": [
    "%timeit df[df['age_years'] < 5] #  base case for Pandas lookups"
   ]
  },
  {
   "cell_type": "code",
   "execution_count": 29,
   "metadata": {},
   "outputs": [
    {
     "name": "stdout",
     "output_type": "stream",
     "text": [
      "In [29] used 0.0000 MiB RAM in 1.05s, peaked 87.93 MiB above current, total RAM usage 1488.49 MiB\n"
     ]
    }
   ],
   "source": [
    "assert df.query('age_years < @target_age').shape == df[df['age_years'] < 5].shape"
   ]
  },
  {
   "cell_type": "markdown",
   "metadata": {},
   "source": [
    "# NumPy vs Pandas operations\n",
    "\n",
    "Go to slides to discuss the overheads..."
   ]
  },
  {
   "cell_type": "code",
   "execution_count": 30,
   "metadata": {},
   "outputs": [
    {
     "name": "stdout",
     "output_type": "stream",
     "text": [
      "27.7 ms ± 895 µs per loop (mean ± std. dev. of 7 runs, 10 loops each)\n",
      "In [30] used 0.0078 MiB RAM in 2.35s, peaked 35.03 MiB above current, total RAM usage 1488.50 MiB\n"
     ]
    }
   ],
   "source": [
    "%%timeit \n",
    "df['age_years'].sum()"
   ]
  },
  {
   "cell_type": "code",
   "execution_count": 31,
   "metadata": {},
   "outputs": [
    {
     "name": "stdout",
     "output_type": "stream",
     "text": [
      "2.91 ms ± 346 µs per loop (mean ± std. dev. of 7 runs, 100 loops each)\n",
      "In [31] used 0.0000 MiB RAM in 2.70s, peaked 0.00 MiB above current, total RAM usage 1488.50 MiB\n"
     ]
    }
   ],
   "source": [
    "%%timeit \n",
    "df['age_years'].values.sum()"
   ]
  },
  {
   "cell_type": "markdown",
   "metadata": {},
   "source": [
    "# More than one way to solve a task\n",
    "\n",
    "We can't use Numba as Numba doesn't make strings go any faster"
   ]
  },
  {
   "cell_type": "code",
   "execution_count": 37,
   "metadata": {
    "scrolled": true
   },
   "outputs": [
    {
     "data": {
      "text/plain": [
       "CompanyNumber\n",
       "00000086    2\n",
       "00000118    4\n",
       "00000121    3\n",
       "00000133    5\n",
       "00000140    5\n",
       "Name: CompanyName, dtype: int64"
      ]
     },
     "execution_count": 37,
     "metadata": {},
     "output_type": "execute_result"
    },
    {
     "name": "stdout",
     "output_type": "stream",
     "text": [
      "In [37] used 157.6602 MiB RAM in 20.80s, peaked 17.65 MiB above current, total RAM usage 1708.03 MiB\n"
     ]
    }
   ],
   "source": [
    "df.sort_index().CompanyName.str.count(\" \").head()"
   ]
  },
  {
   "cell_type": "code",
   "execution_count": 38,
   "metadata": {},
   "outputs": [
    {
     "name": "stdout",
     "output_type": "stream",
     "text": [
      "3.69 s ± 276 ms per loop (mean ± std. dev. of 7 runs, 1 loop each)\n",
      "In [38] used 0.0000 MiB RAM in 29.96s, peaked 35.06 MiB above current, total RAM usage 1708.03 MiB\n"
     ]
    }
   ],
   "source": [
    "%timeit df.CompanyName.str.count(\" \")"
   ]
  },
  {
   "cell_type": "code",
   "execution_count": 39,
   "metadata": {},
   "outputs": [
    {
     "name": "stdout",
     "output_type": "stream",
     "text": [
      "2.34 s ± 56.7 ms per loop (mean ± std. dev. of 7 runs, 1 loop each)\n",
      "In [39] used 0.0000 MiB RAM in 18.83s, peaked 69.88 MiB above current, total RAM usage 1708.03 MiB\n"
     ]
    }
   ],
   "source": [
    "%timeit df.CompanyName.apply(lambda s: s.count(\" \"))"
   ]
  },
  {
   "cell_type": "markdown",
   "metadata": {},
   "source": [
    "# Numba"
   ]
  },
  {
   "cell_type": "code",
   "execution_count": 32,
   "metadata": {},
   "outputs": [
    {
     "data": {
      "text/html": [
       "<div>\n",
       "<style scoped>\n",
       "    .dataframe tbody tr th:only-of-type {\n",
       "        vertical-align: middle;\n",
       "    }\n",
       "\n",
       "    .dataframe tbody tr th {\n",
       "        vertical-align: top;\n",
       "    }\n",
       "\n",
       "    .dataframe thead th {\n",
       "        text-align: right;\n",
       "    }\n",
       "</style>\n",
       "<table border=\"1\" class=\"dataframe\">\n",
       "  <thead>\n",
       "    <tr style=\"text-align: right;\">\n",
       "      <th></th>\n",
       "      <th>CompanyName</th>\n",
       "      <th>CompanyStatus</th>\n",
       "      <th>IncorporationDate</th>\n",
       "      <th>CompanyStatus_cat</th>\n",
       "      <th>age_years</th>\n",
       "      <th>age_years_smaller</th>\n",
       "      <th>won_lottery</th>\n",
       "    </tr>\n",
       "    <tr>\n",
       "      <th>CompanyNumber</th>\n",
       "      <th></th>\n",
       "      <th></th>\n",
       "      <th></th>\n",
       "      <th></th>\n",
       "      <th></th>\n",
       "      <th></th>\n",
       "      <th></th>\n",
       "    </tr>\n",
       "  </thead>\n",
       "  <tbody>\n",
       "    <tr>\n",
       "      <th>03110908</th>\n",
       "      <td>THE RCJ AND ISLINGTON CITIZENS ADVICE BUREAUX</td>\n",
       "      <td>Active</td>\n",
       "      <td>1995-10-06</td>\n",
       "      <td>Active</td>\n",
       "      <td>24.916667</td>\n",
       "      <td>24.916666</td>\n",
       "      <td>True</td>\n",
       "    </tr>\n",
       "    <tr>\n",
       "      <th>NI633361</th>\n",
       "      <td>EURO GOLD FIELD LTD</td>\n",
       "      <td>Active</td>\n",
       "      <td>2015-09-02</td>\n",
       "      <td>Active</td>\n",
       "      <td>4.719444</td>\n",
       "      <td>4.719444</td>\n",
       "      <td>True</td>\n",
       "    </tr>\n",
       "    <tr>\n",
       "      <th>12108269</th>\n",
       "      <td>ABSOLUTE GARDENS MAINTENANCE LTD</td>\n",
       "      <td>Active</td>\n",
       "      <td>2019-07-17</td>\n",
       "      <td>Active</td>\n",
       "      <td>0.791667</td>\n",
       "      <td>0.791667</td>\n",
       "      <td>False</td>\n",
       "    </tr>\n",
       "    <tr>\n",
       "      <th>05732882</th>\n",
       "      <td>R GAMBLE HOLDINGS LIMITED</td>\n",
       "      <td>Active</td>\n",
       "      <td>2006-03-07</td>\n",
       "      <td>Active</td>\n",
       "      <td>14.347222</td>\n",
       "      <td>14.347222</td>\n",
       "      <td>False</td>\n",
       "    </tr>\n",
       "    <tr>\n",
       "      <th>04378340</th>\n",
       "      <td>PRAGUE SHOES LTD</td>\n",
       "      <td>Active</td>\n",
       "      <td>2002-02-20</td>\n",
       "      <td>Active</td>\n",
       "      <td>18.447222</td>\n",
       "      <td>18.447222</td>\n",
       "      <td>True</td>\n",
       "    </tr>\n",
       "  </tbody>\n",
       "</table>\n",
       "</div>"
      ],
      "text/plain": [
       "                                                 CompanyName CompanyStatus  \\\n",
       "CompanyNumber                                                                \n",
       "03110908       THE RCJ AND ISLINGTON CITIZENS ADVICE BUREAUX        Active   \n",
       "NI633361                                 EURO GOLD FIELD LTD        Active   \n",
       "12108269                    ABSOLUTE GARDENS MAINTENANCE LTD        Active   \n",
       "05732882                           R GAMBLE HOLDINGS LIMITED        Active   \n",
       "04378340                                    PRAGUE SHOES LTD        Active   \n",
       "\n",
       "              IncorporationDate CompanyStatus_cat  age_years  \\\n",
       "CompanyNumber                                                  \n",
       "03110908             1995-10-06            Active  24.916667   \n",
       "NI633361             2015-09-02            Active   4.719444   \n",
       "12108269             2019-07-17            Active   0.791667   \n",
       "05732882             2006-03-07            Active  14.347222   \n",
       "04378340             2002-02-20            Active  18.447222   \n",
       "\n",
       "               age_years_smaller  won_lottery  \n",
       "CompanyNumber                                  \n",
       "03110908               24.916666         True  \n",
       "NI633361                4.719444         True  \n",
       "12108269                0.791667        False  \n",
       "05732882               14.347222        False  \n",
       "04378340               18.447222         True  "
      ]
     },
     "execution_count": 32,
     "metadata": {},
     "output_type": "execute_result"
    },
    {
     "name": "stdout",
     "output_type": "stream",
     "text": [
      "In [32] used 0.0859 MiB RAM in 0.34s, peaked 3.01 MiB above current, total RAM usage 1488.58 MiB\n"
     ]
    }
   ],
   "source": [
    "def won_the_lottery(age):\n",
    "    \"\"\"Older companies have a higher chance \n",
    "       of winning a low-probability event\"\"\"\n",
    "    for n in range(int(age)):\n",
    "        if random.uniform(0, 1) > 0.9:\n",
    "            return True\n",
    "    return False\n",
    "df_sample = df.sample(5)\n",
    "ser = df_sample['age_years'].apply(won_the_lottery) # example output\n",
    "ser.name = 'won_lottery'\n",
    "pd.concat((df_sample, ser), axis=1)"
   ]
  },
  {
   "cell_type": "code",
   "execution_count": 33,
   "metadata": {},
   "outputs": [
    {
     "name": "stdout",
     "output_type": "stream",
     "text": [
      "9.43 s ± 243 ms per loop (mean ± std. dev. of 7 runs, 1 loop each)\n",
      "In [33] used 1.7422 MiB RAM in 75.11s, peaked 209.86 MiB above current, total RAM usage 1490.32 MiB\n"
     ]
    }
   ],
   "source": [
    "%timeit df['age_years'].apply(won_the_lottery) "
   ]
  },
  {
   "cell_type": "code",
   "execution_count": 34,
   "metadata": {},
   "outputs": [
    {
     "data": {
      "text/plain": [
       "CompanyNumber\n",
       "05814632     True\n",
       "10141470    False\n",
       "06901658     True\n",
       "08868758    False\n",
       "09739132    False\n",
       "Name: age_years, dtype: bool"
      ]
     },
     "execution_count": 34,
     "metadata": {},
     "output_type": "execute_result"
    },
    {
     "name": "stdout",
     "output_type": "stream",
     "text": [
      "In [34] used 59.0117 MiB RAM in 0.86s, peaked 0.00 MiB above current, total RAM usage 1549.34 MiB\n"
     ]
    }
   ],
   "source": [
    "from numba import njit\n",
    "@njit()\n",
    "def won_the_lottery(age):\n",
    "    \"\"\"Older companies have a higher chance \n",
    "       of winning a low-probability event\"\"\"\n",
    "    for n in range(int(age)):\n",
    "        if random.uniform(0, 1) > 0.9:\n",
    "            return True\n",
    "    return False\n",
    "df.sample(5)['age_years'].apply(won_the_lottery) # pre-compile to stabilise timing"
   ]
  },
  {
   "cell_type": "code",
   "execution_count": 35,
   "metadata": {},
   "outputs": [
    {
     "name": "stdout",
     "output_type": "stream",
     "text": [
      "1.96 s ± 62.6 ms per loop (mean ± std. dev. of 7 runs, 1 loop each)\n",
      "In [35] used 1.0117 MiB RAM in 15.94s, peaked 211.61 MiB above current, total RAM usage 1550.35 MiB\n"
     ]
    }
   ],
   "source": [
    "%timeit df['age_years'].apply(won_the_lottery) "
   ]
  },
  {
   "cell_type": "code",
   "execution_count": 36,
   "metadata": {},
   "outputs": [
    {
     "name": "stdout",
     "output_type": "stream",
     "text": [
      "won_the_lottery (float64,)\n",
      "--------------------------------------------------------------------------------\n",
      "# File: <ipython-input-34-62651dd83ff1>\n",
      "# --- LINE 2 --- \n",
      "\n",
      "@njit()\n",
      "\n",
      "# --- LINE 3 --- \n",
      "\n",
      "def won_the_lottery(age):\n",
      "\n",
      "    # --- LINE 4 --- \n",
      "\n",
      "    \"\"\"Older companies have a higher chance\n",
      "\n",
      "       # --- LINE 5 --- \n",
      "\n",
      "       of winning a low-probability event\"\"\"\n",
      "\n",
      "    # --- LINE 6 --- \n",
      "    # label 0\n",
      "    #   age = arg(0, name=age)  :: float64\n",
      "    #   jump 2\n",
      "    # label 2\n",
      "    #   $4load_global.0 = global(range: <class 'range'>)  :: Function(<class 'range'>)\n",
      "    #   $6load_global.1 = global(int: <class 'int'>)  :: Function(<class 'int'>)\n",
      "    #   $10call_function.3 = call $6load_global.1(age, func=$6load_global.1, args=[Var(age, <ipython-input-34-62651dd83ff1>:6)], kws=(), vararg=None)  :: (float64,) -> int64\n",
      "    #   del age\n",
      "    #   del $6load_global.1\n",
      "    #   $12call_function.4 = call $4load_global.0($10call_function.3, func=$4load_global.0, args=[Var($10call_function.3, <ipython-input-34-62651dd83ff1>:6)], kws=(), vararg=None)  :: (int64,) -> range_state_int64\n",
      "    #   del $4load_global.0\n",
      "    #   del $10call_function.3\n",
      "    #   $14get_iter.5 = getiter(value=$12call_function.4)  :: range_iter_int64\n",
      "    #   del $12call_function.4\n",
      "    #   $phi16.0 = $14get_iter.5  :: range_iter_int64\n",
      "    #   del $14get_iter.5\n",
      "    #   jump 16\n",
      "    # label 16\n",
      "    #   del $32compare_op.8\n",
      "    #   $16for_iter.1 = iternext(value=$phi16.0)  :: pair<int64, bool>\n",
      "    #   $16for_iter.2 = pair_first(value=$16for_iter.1)  :: int64\n",
      "    #   $16for_iter.3 = pair_second(value=$16for_iter.1)  :: bool\n",
      "    #   del $16for_iter.1\n",
      "    #   $phi18.1 = $16for_iter.2  :: int64\n",
      "    #   del $16for_iter.2\n",
      "    #   branch $16for_iter.3, 18, 42\n",
      "    # label 18\n",
      "    #   del $16for_iter.3\n",
      "    #   n = $phi18.1  :: int64\n",
      "    #   del n\n",
      "    #   del $phi18.1\n",
      "\n",
      "    for n in range(int(age)):\n",
      "\n",
      "        # --- LINE 7 --- \n",
      "        #   $20load_global.2 = global(random: <module 'random' from '/home/ian/miniconda3/envs/upcoming_talks/lib/python3.7/random.py'>)  :: Module(<module 'random' from '/home/ian/miniconda3/envs/upcoming_talks/lib/python3.7/random.py'>)\n",
      "        #   $22load_method.3 = getattr(value=$20load_global.2, attr=uniform)  :: Function(random.uniform)\n",
      "        #   del $20load_global.2\n",
      "        #   $const24.4 = const(int, 0)  :: Literal[int](0)\n",
      "        #   $const26.5 = const(int, 1)  :: Literal[int](1)\n",
      "        #   $28call_method.6 = call $22load_method.3($const24.4, $const26.5, func=$22load_method.3, args=[Var($const24.4, <ipython-input-34-62651dd83ff1>:7), Var($const26.5, <ipython-input-34-62651dd83ff1>:7)], kws=(), vararg=None)  :: (float64, float64) -> float64\n",
      "        #   del $const26.5\n",
      "        #   del $const24.4\n",
      "        #   del $22load_method.3\n",
      "        #   $const30.7 = const(float, 0.9)  :: float64\n",
      "        #   $32compare_op.8 = $28call_method.6 > $const30.7  :: bool\n",
      "        #   del $const30.7\n",
      "        #   del $28call_method.6\n",
      "        #   branch $32compare_op.8, 36, 16\n",
      "\n",
      "        if random.uniform(0, 1) > 0.9:\n",
      "\n",
      "            # --- LINE 8 --- \n",
      "            # label 36\n",
      "            #   del $phi16.0\n",
      "            #   del $32compare_op.8\n",
      "            #   $const36.1 = const(bool, True)  :: bool\n",
      "            #   $38return_value.2 = cast(value=$const36.1)  :: bool\n",
      "            #   del $const36.1\n",
      "            #   return $38return_value.2\n",
      "            # label 42\n",
      "\n",
      "            return True\n",
      "\n",
      "    # --- LINE 9 --- \n",
      "    #   del $phi18.1\n",
      "    #   del $phi16.0\n",
      "    #   del $16for_iter.3\n",
      "    #   jump 44\n",
      "    # label 44\n",
      "    #   $const44.0 = const(bool, False)  :: bool\n",
      "    #   $46return_value.1 = cast(value=$const44.0)  :: bool\n",
      "    #   del $const44.0\n",
      "    #   return $46return_value.1\n",
      "\n",
      "    return False\n",
      "\n",
      "\n",
      "================================================================================\n",
      "In [36] used 0.0234 MiB RAM in 0.11s, peaked 0.00 MiB above current, total RAM usage 1550.37 MiB\n"
     ]
    }
   ],
   "source": [
    "won_the_lottery.inspect_types()"
   ]
  }
 ],
 "metadata": {
  "kernelspec": {
   "display_name": "Python 3",
   "language": "python",
   "name": "python3"
  },
  "language_info": {
   "codemirror_mode": {
    "name": "ipython",
    "version": 3
   },
   "file_extension": ".py",
   "mimetype": "text/x-python",
   "name": "python",
   "nbconvert_exporter": "python",
   "pygments_lexer": "ipython3",
   "version": "3.7.6"
  }
 },
 "nbformat": 4,
 "nbformat_minor": 4
}
